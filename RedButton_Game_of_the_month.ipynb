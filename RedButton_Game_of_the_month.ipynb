{
 "cells": [
  {
   "cell_type": "markdown",
   "id": "21cda704-06c6-4de4-83a7-f77fbeec5728",
   "metadata": {},
   "source": [
    "# Target: 이달의 게임 리트트"
   ]
  },
  {
   "cell_type": "markdown",
   "id": "1ed8738b-942c-4dec-9ecd-04504abb81b1",
   "metadata": {},
   "source": [
    "## 0. **필요 라이브러리 호출**"
   ]
  },
  {
   "cell_type": "code",
   "execution_count": 25,
   "id": "e1e6514c",
   "metadata": {},
   "outputs": [],
   "source": [
    "# 스크래핑에 필요한 라이브러리를 불러와봅시다.\n",
    "\n",
    "from selenium import webdriver\n",
    "from selenium.webdriver import ActionChains\n",
    "from webdriver_manager.chrome import ChromeDriverManager\n",
    "import time\n",
    "import pandas as pd"
   ]
  },
  {
   "cell_type": "markdown",
   "id": "bd22b243-a896-451f-8c89-0423400e5923",
   "metadata": {},
   "source": [
    "## 1. **게임명 태그를 찾아 저장**\n",
    "- 게임명에 해당하는 태그를 찾아 저장\n",
    "- CLASS_NAME 중복이 많아 CSS_SELECTOR로 호출\n",
    "- 게임 목록을 출력하여 확인"
   ]
  },
  {
   "cell_type": "code",
   "execution_count": 21,
   "id": "80b21410-4429-470b-b7ab-a632cae667e6",
   "metadata": {
    "scrolled": true
   },
   "outputs": [
    {
     "name": "stdout",
     "output_type": "stream",
     "text": [
      "0: 라이헌트\n",
      "1: 다빈치코드\n",
      "2: 금지어 게임\n",
      "3: 루미큐브\n",
      "4: 라쿠카라차\n",
      "5: 클루\n",
      "6: 스플렌더\n",
      "7: 선물입니다\n",
      "8: 인디언포커\n",
      "9: 꼬치의 달인\n"
     ]
    }
   ],
   "source": [
    "driver = webdriver.Chrome(service=Service(ChromeDriverManager().install()))\n",
    "driver.get(\"https://redbutton.co.kr/boardgame/%eb%b3%b4%eb%93%9c%ea%b2%8c%ec%9e%84-%ec%b0%be%ea%b8%b0/\")\n",
    "time.sleep(0.5)\n",
    "\n",
    "# 게임명 태그를 찾아 저장\n",
    "games_of_month = driver.find_elements(By.CSS_SELECTOR, \".game-name.red-game-open\")\n",
    "\n",
    "month_game_list = []\n",
    "\n",
    "# 게임 목록 출력\n",
    "for i, game in enumerate(games_of_month):\n",
    "    if game.text != \"\":\n",
    "        month_game_list.append(game.text)\n",
    "        print(f\"{i}: {game.text}\")"
   ]
  },
  {
   "cell_type": "code",
   "execution_count": 27,
   "id": "9d07fbd3-da19-4c74-a920-3f3f3a0034b4",
   "metadata": {},
   "outputs": [],
   "source": [
    "df = pd.DataFrame(month_game_list, columns=[\"게임명\"])\n",
    "\n",
    "df.to_csv(\"games_of_month.csv\", index=False, encoding=\"utf-8-sig\")"
   ]
  }
 ],
 "metadata": {
  "kernelspec": {
   "display_name": "Python 3 (ipykernel)",
   "language": "python",
   "name": "python3"
  },
  "language_info": {
   "codemirror_mode": {
    "name": "ipython",
    "version": 3
   },
   "file_extension": ".py",
   "mimetype": "text/x-python",
   "name": "python",
   "nbconvert_exporter": "python",
   "pygments_lexer": "ipython3",
   "version": "3.12.4"
  }
 },
 "nbformat": 4,
 "nbformat_minor": 5
}
